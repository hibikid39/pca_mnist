{
 "cells": [
  {
   "cell_type": "markdown",
   "metadata": {},
   "source": [
    "# 2021年度講義「計算機プログラミング特論」補足資料"
   ]
  },
  {
   "cell_type": "markdown",
   "metadata": {},
   "source": [
    "## Python+Numpyで行列演算(Jupyter Notebook編)\n",
    "仕様の詳細等は下記URLの情報などを参照するとよい。\n",
    "#### Numpy User Guide\n",
    "https://numpy.org/doc/stable/user/index.html\n",
    "#### Numpy API Reference\n",
    "https://numpy.org/doc/stable/reference/index.html"
   ]
  },
  {
   "cell_type": "markdown",
   "metadata": {},
   "source": [
    "### numpyのインポート（以降でnumpyライブラリの機能をnpという名前でアクセスできるようにする)"
   ]
  },
  {
   "cell_type": "code",
   "execution_count": 2,
   "metadata": {
    "scrolled": true
   },
   "outputs": [],
   "source": [
    "import numpy as np"
   ]
  },
  {
   "cell_type": "markdown",
   "metadata": {},
   "source": [
    "## numpyの基本構文"
   ]
  },
  {
   "cell_type": "markdown",
   "metadata": {},
   "source": [
    "### 行列やベクトルの定義例(array関数）"
   ]
  },
  {
   "cell_type": "code",
   "execution_count": 3,
   "metadata": {},
   "outputs": [],
   "source": [
    "vector1 = np.array([[1,2]])\n",
    "array1  = np.array([[1.0,2],[3,4]])"
   ]
  },
  {
   "cell_type": "markdown",
   "metadata": {},
   "source": [
    "### データ型の確認（要素の型を意識・統一して使用する必要がある）"
   ]
  },
  {
   "cell_type": "code",
   "execution_count": 4,
   "metadata": {},
   "outputs": [
    {
     "data": {
      "text/plain": [
       "dtype('int32')"
      ]
     },
     "execution_count": 4,
     "metadata": {},
     "output_type": "execute_result"
    }
   ],
   "source": [
    "vector1.dtype"
   ]
  },
  {
   "cell_type": "code",
   "execution_count": 5,
   "metadata": {},
   "outputs": [
    {
     "data": {
      "text/plain": [
       "dtype('float64')"
      ]
     },
     "execution_count": 5,
     "metadata": {},
     "output_type": "execute_result"
    }
   ],
   "source": [
    "array1.dtype"
   ]
  },
  {
   "cell_type": "markdown",
   "metadata": {},
   "source": [
    "### 行列やベクトルの大きさの確認"
   ]
  },
  {
   "cell_type": "code",
   "execution_count": 6,
   "metadata": {},
   "outputs": [
    {
     "data": {
      "text/plain": [
       "(1, 2)"
      ]
     },
     "execution_count": 6,
     "metadata": {},
     "output_type": "execute_result"
    }
   ],
   "source": [
    "vector1.shape"
   ]
  },
  {
   "cell_type": "code",
   "execution_count": 7,
   "metadata": {},
   "outputs": [
    {
     "data": {
      "text/plain": [
       "(2, 2)"
      ]
     },
     "execution_count": 7,
     "metadata": {},
     "output_type": "execute_result"
    }
   ],
   "source": [
    "array1.shape"
   ]
  },
  {
   "cell_type": "markdown",
   "metadata": {},
   "source": [
    "### スライス操作（部分的に要素を取り出す）"
   ]
  },
  {
   "cell_type": "code",
   "execution_count": 8,
   "metadata": {},
   "outputs": [
    {
     "name": "stdout",
     "output_type": "stream",
     "text": [
      "12\n",
      "23\n",
      "45\n",
      "34\n",
      "[23 34]\n",
      "[12 23]\n",
      "[12 23 34]\n",
      "[12 23 34 45]\n"
     ]
    }
   ],
   "source": [
    "value = np.array([12,23,34,45])\n",
    "print(value[0])   # 最初(0番目）の要素\n",
    "print(value[1])   # 1番目の要素\n",
    "print(value[-1])  # 末尾の要素\n",
    "print(value[2])   # 末尾から2番目の要素\n",
    "print(value[1:3]) # 1～2番目の要素列（要素番号3番目の手前まで）\n",
    "print(value[:2])  # 先頭から2番目までの要素列\n",
    "print(value[:-1]) # 先頭から（末尾から数えて2番目）までの要素列\n",
    "print(value[:])   # 先頭から末尾までの要素列\n"
   ]
  },
  {
   "cell_type": "markdown",
   "metadata": {},
   "source": [
    "### 簡単な計算"
   ]
  },
  {
   "cell_type": "code",
   "execution_count": 9,
   "metadata": {},
   "outputs": [
    {
     "name": "stdout",
     "output_type": "stream",
     "text": [
      "114\n",
      "422280\n",
      "[ 144  529 1156 2025]\n",
      "[3.46410162 4.79583152 5.83095189 6.70820393]\n",
      "[ 144  529 1156 2025]\n",
      "28.5\n",
      "151.25\n",
      "12.298373876248844\n",
      "12\n",
      "45\n",
      "0\n",
      "3\n"
     ]
    }
   ],
   "source": [
    "print( np.sum(value) )  # 要素の和\n",
    "print( np.product(value) )  # 要素の積\n",
    "print( np.square(value) )  # 各要素の2乗\n",
    "print( np.sqrt(value) )  # 各要素の平方根\n",
    "print( value**2 )  # 各要素のべき乗\n",
    "print( np.mean(value) )  # 要素の平均\n",
    "print( np.var(value) )  # 要素の分散\n",
    "print( np.std(value) )  # 要素の標準偏差\n",
    "print( np.min(value) )  # 要素の最小値\n",
    "print( np.max(value) )  # 要素の最大値\n",
    "print( np.argmin(value) )  # 要素の最小値のインデックス\n",
    "print( np.argmax(value) )  # 要素の最大値のインデックス\n"
   ]
  },
  {
   "cell_type": "markdown",
   "metadata": {},
   "source": [
    "### 要素のソート"
   ]
  },
  {
   "cell_type": "code",
   "execution_count": 10,
   "metadata": {},
   "outputs": [
    {
     "name": "stdout",
     "output_type": "stream",
     "text": [
      "[5 1 9 3 7]\n",
      "[1 3 5 7 9]\n",
      "[9 7 5 3 1]\n",
      "[1 3 0 4 2]\n",
      "[2 4 0 3 1]\n"
     ]
    }
   ],
   "source": [
    "order = np.array([5,1,9,3,7])\n",
    "print( order )                    # ソート前のリスト\n",
    "print( np.sort(order) )           # 昇順に並べた結果\n",
    "print( np.sort(order)[::-1] )     # 降順に並べた結果\n",
    "print( np.argsort(order) )        # 昇順に並べた場合のインデックス\n",
    "print( np.argsort(order)[::-1] )  # 降順に並べた場合のインデックス\n"
   ]
  },
  {
   "cell_type": "markdown",
   "metadata": {},
   "source": [
    "### ユニーク操作（重複要素の除去）"
   ]
  },
  {
   "cell_type": "code",
   "execution_count": 11,
   "metadata": {},
   "outputs": [
    {
     "name": "stdout",
     "output_type": "stream",
     "text": [
      "[1 2 3 4 5 7]\n"
     ]
    }
   ],
   "source": [
    "rawdata = np.array([1,3,2,4,3,5,7])\n",
    "print( np.unique(rawdata) ) # 重複した要素\"3\"が1つになる（重複の除去）"
   ]
  },
  {
   "cell_type": "markdown",
   "metadata": {},
   "source": [
    "### 条件を満たす要素の抽出"
   ]
  },
  {
   "cell_type": "code",
   "execution_count": 12,
   "metadata": {},
   "outputs": [
    {
     "name": "stdout",
     "output_type": "stream",
     "text": [
      "[0 1 2 4 6]\n"
     ]
    }
   ],
   "source": [
    "rawdata = np.array([1,2,3,-4,5,-6,7,-8,-9])\n",
    "indices = np.where(rawdata>0)[0]    # 条件(要素>0)を満たす要素のインデックスを抽出\n",
    "print(indices)"
   ]
  },
  {
   "cell_type": "markdown",
   "metadata": {},
   "source": [
    "### さまざまな行列を作る"
   ]
  },
  {
   "cell_type": "markdown",
   "metadata": {},
   "source": [
    "#### 単位行列"
   ]
  },
  {
   "cell_type": "code",
   "execution_count": 13,
   "metadata": {},
   "outputs": [
    {
     "data": {
      "text/plain": [
       "array([[1., 0., 0.],\n",
       "       [0., 1., 0.],\n",
       "       [0., 0., 1.]])"
      ]
     },
     "execution_count": 13,
     "metadata": {},
     "output_type": "execute_result"
    }
   ],
   "source": [
    "d = np.eye(3)\n",
    "d"
   ]
  },
  {
   "cell_type": "markdown",
   "metadata": {},
   "source": [
    "#### すべての要素が0の行列"
   ]
  },
  {
   "cell_type": "code",
   "execution_count": 14,
   "metadata": {},
   "outputs": [
    {
     "data": {
      "text/plain": [
       "array([[0., 0., 0., 0.],\n",
       "       [0., 0., 0., 0.],\n",
       "       [0., 0., 0., 0.]])"
      ]
     },
     "execution_count": 14,
     "metadata": {},
     "output_type": "execute_result"
    }
   ],
   "source": [
    "d = np.zeros((3,4))\n",
    "d"
   ]
  },
  {
   "cell_type": "markdown",
   "metadata": {},
   "source": [
    "#### すべての要素が1の行列"
   ]
  },
  {
   "cell_type": "code",
   "execution_count": 15,
   "metadata": {},
   "outputs": [
    {
     "data": {
      "text/plain": [
       "array([[1., 1., 1.],\n",
       "       [1., 1., 1.],\n",
       "       [1., 1., 1.],\n",
       "       [1., 1., 1.]])"
      ]
     },
     "execution_count": 15,
     "metadata": {},
     "output_type": "execute_result"
    }
   ],
   "source": [
    "d = np.ones((4,3))\n",
    "d"
   ]
  },
  {
   "cell_type": "markdown",
   "metadata": {},
   "source": [
    "#### すべての要素が指定した値の行列"
   ]
  },
  {
   "cell_type": "code",
   "execution_count": 16,
   "metadata": {},
   "outputs": [
    {
     "data": {
      "text/plain": [
       "array([[5, 5, 5, 5],\n",
       "       [5, 5, 5, 5],\n",
       "       [5, 5, 5, 5]])"
      ]
     },
     "execution_count": 16,
     "metadata": {},
     "output_type": "execute_result"
    }
   ],
   "source": [
    "d = np.full((3,4),5)\n",
    "d"
   ]
  },
  {
   "cell_type": "markdown",
   "metadata": {},
   "source": [
    "#### 指定サイズの行列を、[0,1]の一様乱数で埋める"
   ]
  },
  {
   "cell_type": "code",
   "execution_count": 17,
   "metadata": {},
   "outputs": [
    {
     "data": {
      "text/plain": [
       "array([[0.36700049, 0.25458826, 0.38996472, 0.88839144],\n",
       "       [0.35471098, 0.73581603, 0.03961226, 0.89430778],\n",
       "       [0.65297436, 0.35229269, 0.41248518, 0.45697636]])"
      ]
     },
     "execution_count": 17,
     "metadata": {},
     "output_type": "execute_result"
    }
   ],
   "source": [
    "d = np.random.random((3,4))\n",
    "d"
   ]
  },
  {
   "cell_type": "markdown",
   "metadata": {},
   "source": [
    "#### 指定サイズの行列を整数の乱数で埋める"
   ]
  },
  {
   "cell_type": "code",
   "execution_count": 18,
   "metadata": {},
   "outputs": [
    {
     "data": {
      "text/plain": [
       "array([[9, 3, 3, 8, 8],\n",
       "       [5, 6, 0, 4, 7],\n",
       "       [9, 7, 3, 2, 7],\n",
       "       [7, 2, 3, 4, 1]])"
      ]
     },
     "execution_count": 18,
     "metadata": {},
     "output_type": "execute_result"
    }
   ],
   "source": [
    "d = np.random.randint(0,10,(4,5))\n",
    "d"
   ]
  },
  {
   "cell_type": "markdown",
   "metadata": {},
   "source": [
    "#### 標準正規分布乱数(平均 0, 標準偏差 1)"
   ]
  },
  {
   "cell_type": "code",
   "execution_count": 19,
   "metadata": {},
   "outputs": [
    {
     "data": {
      "text/plain": [
       "array([[-0.60156902,  1.1707009 , -1.09634415, -0.30966372],\n",
       "       [-1.51428907,  0.5960367 ,  0.18786689, -0.39447162],\n",
       "       [ 2.26285327,  0.29030601,  0.97279235,  0.38859413]])"
      ]
     },
     "execution_count": 19,
     "metadata": {},
     "output_type": "execute_result"
    }
   ],
   "source": [
    "d = np.random.normal(loc=0.0, scale=1.0, size=(3,4))\n",
    "d"
   ]
  },
  {
   "cell_type": "markdown",
   "metadata": {},
   "source": [
    "#### 行列の1次元化"
   ]
  },
  {
   "cell_type": "code",
   "execution_count": 20,
   "metadata": {},
   "outputs": [
    {
     "data": {
      "text/plain": [
       "array([1, 2, 3, 4, 5, 6])"
      ]
     },
     "execution_count": 20,
     "metadata": {},
     "output_type": "execute_result"
    }
   ],
   "source": [
    "a = np.array([[1,2],[3,4],[5,6]])\n",
    "b = a.flatten()   # aを1次元配列に変形\n",
    "b"
   ]
  },
  {
   "cell_type": "markdown",
   "metadata": {},
   "source": [
    "#### 配列の形を変形"
   ]
  },
  {
   "cell_type": "code",
   "execution_count": 21,
   "metadata": {},
   "outputs": [
    {
     "data": {
      "text/plain": [
       "array([0, 1, 2, 3, 4, 5, 6, 7, 8, 9])"
      ]
     },
     "execution_count": 21,
     "metadata": {},
     "output_type": "execute_result"
    }
   ],
   "source": [
    "a = np.arange(10)   # a は 0 ～ 9 の整数で1次元配列\n",
    "a"
   ]
  },
  {
   "cell_type": "code",
   "execution_count": 22,
   "metadata": {},
   "outputs": [
    {
     "data": {
      "text/plain": [
       "array([[0, 1, 2, 3, 4],\n",
       "       [5, 6, 7, 8, 9]])"
      ]
     },
     "execution_count": 22,
     "metadata": {},
     "output_type": "execute_result"
    }
   ],
   "source": [
    "b = a.reshape(2,5)  # b は a を変形し 2 x 5 型行列(２次元配列)に変形\n",
    "b"
   ]
  },
  {
   "cell_type": "markdown",
   "metadata": {},
   "source": [
    "#### 行列の連結"
   ]
  },
  {
   "cell_type": "code",
   "execution_count": 23,
   "metadata": {},
   "outputs": [
    {
     "data": {
      "text/plain": [
       "array([[1, 2, 5, 6],\n",
       "       [3, 4, 7, 8]])"
      ]
     },
     "execution_count": 23,
     "metadata": {},
     "output_type": "execute_result"
    }
   ],
   "source": [
    "a = np.array([[1,2],[3,4]])\n",
    "b = np.array([[5,6],[7,8]])\n",
    "c = np.hstack((a,b)) # a と b を横に連結(aの右にbを連結)\n",
    "c"
   ]
  },
  {
   "cell_type": "code",
   "execution_count": 24,
   "metadata": {},
   "outputs": [
    {
     "data": {
      "text/plain": [
       "array([[1, 2],\n",
       "       [3, 4],\n",
       "       [5, 6],\n",
       "       [7, 8]])"
      ]
     },
     "execution_count": 24,
     "metadata": {},
     "output_type": "execute_result"
    }
   ],
   "source": [
    "a = np.array([[1,2],[3,4]])\n",
    "b = np.array([[5,6],[7,8]])\n",
    "c = np.vstack((a,b)) # a と b を縦に連結(aの下にbを連結)\n",
    "c"
   ]
  },
  {
   "cell_type": "code",
   "execution_count": 25,
   "metadata": {},
   "outputs": [
    {
     "data": {
      "text/plain": [
       "array([[1, 2],\n",
       "       [3, 4],\n",
       "       [5, 6],\n",
       "       [7, 8]])"
      ]
     },
     "execution_count": 25,
     "metadata": {},
     "output_type": "execute_result"
    }
   ],
   "source": [
    "a = np.array([[1,2],[3,4]])\n",
    "b = np.array([[5,6],[7,8]])\n",
    "c = np.concatenate([a,b],axis=0) # a と b を縦に連結(aの下にbを連結)\n",
    "c"
   ]
  },
  {
   "cell_type": "code",
   "execution_count": 26,
   "metadata": {},
   "outputs": [
    {
     "data": {
      "text/plain": [
       "array([[1, 2, 5, 6],\n",
       "       [3, 4, 7, 8]])"
      ]
     },
     "execution_count": 26,
     "metadata": {},
     "output_type": "execute_result"
    }
   ],
   "source": [
    "a = np.array([[1,2],[3,4]])\n",
    "b = np.array([[5,6],[7,8]])\n",
    "c = np.concatenate([a,b],axis=1) # a と b を横に連結(aの右にbを連結)\n",
    "c"
   ]
  },
  {
   "cell_type": "markdown",
   "metadata": {},
   "source": [
    "#### 行列の回転"
   ]
  },
  {
   "cell_type": "code",
   "execution_count": 27,
   "metadata": {},
   "outputs": [
    {
     "name": "stdout",
     "output_type": "stream",
     "text": [
      "a:\n",
      " [[1 2 3]\n",
      " [4 5 6]\n",
      " [7 8 9]]\n",
      "b:\n",
      " [[7 8 9]\n",
      " [1 2 3]\n",
      " [4 5 6]]\n",
      "c:\n",
      " [[3 1 2]\n",
      " [6 4 5]\n",
      " [9 7 8]]\n"
     ]
    }
   ],
   "source": [
    "a = np.array([[1,2,3],[4,5,6],[7,8,9]])\n",
    "print('a:\\n',a) # 元の行列 \n",
    "b = np.roll(a,1,axis=0)\n",
    "print('b:\\n',b) # 行方向に1つ回転\n",
    "c = np.roll(a,1,axis=1)\n",
    "print('c:\\n',c) # 列方向に1つ回転"
   ]
  },
  {
   "cell_type": "markdown",
   "metadata": {},
   "source": [
    "#### 行列のインデックス生成とそのシャッフル"
   ]
  },
  {
   "cell_type": "code",
   "execution_count": 28,
   "metadata": {},
   "outputs": [
    {
     "name": "stdout",
     "output_type": "stream",
     "text": [
      "ind:\n",
      " [0 1 2 3 4]\n",
      "perm:\n",
      " [1 4 0 3 2]\n"
     ]
    }
   ],
   "source": [
    "prime = np.array([2,3,5,7,11])\n",
    "ind = np.arange(len(prime))\n",
    "print('ind:\\n',ind)  # primeのインデックス\n",
    "perm = np.random.permutation(len(prime))\n",
    "print('perm:\\n',perm)  # primeのインデックスをランダムに並べ替え"
   ]
  },
  {
   "cell_type": "markdown",
   "metadata": {},
   "source": [
    "### 行列演算"
   ]
  },
  {
   "cell_type": "markdown",
   "metadata": {},
   "source": [
    "#### 要素ごとの四則演算"
   ]
  },
  {
   "cell_type": "code",
   "execution_count": 29,
   "metadata": {},
   "outputs": [
    {
     "data": {
      "text/plain": [
       "array([[ 6,  8],\n",
       "       [10, 12]])"
      ]
     },
     "execution_count": 29,
     "metadata": {},
     "output_type": "execute_result"
    }
   ],
   "source": [
    "a = np.array([[1,2],[3,4]])\n",
    "b = np.array([[5,6],[7,8]])\n",
    "c = a+b\n",
    "c"
   ]
  },
  {
   "cell_type": "code",
   "execution_count": 30,
   "metadata": {},
   "outputs": [
    {
     "data": {
      "text/plain": [
       "array([[4, 4],\n",
       "       [4, 4]])"
      ]
     },
     "execution_count": 30,
     "metadata": {},
     "output_type": "execute_result"
    }
   ],
   "source": [
    "c = b-a\n",
    "c"
   ]
  },
  {
   "cell_type": "code",
   "execution_count": 31,
   "metadata": {},
   "outputs": [
    {
     "data": {
      "text/plain": [
       "array([[ 5, 12],\n",
       "       [21, 32]])"
      ]
     },
     "execution_count": 31,
     "metadata": {},
     "output_type": "execute_result"
    }
   ],
   "source": [
    "c = a*b\n",
    "c"
   ]
  },
  {
   "cell_type": "code",
   "execution_count": 32,
   "metadata": {},
   "outputs": [
    {
     "data": {
      "text/plain": [
       "array([[5.        , 3.        ],\n",
       "       [2.33333333, 2.        ]])"
      ]
     },
     "execution_count": 32,
     "metadata": {},
     "output_type": "execute_result"
    }
   ],
   "source": [
    "c = b / a\n",
    "c"
   ]
  },
  {
   "cell_type": "markdown",
   "metadata": {},
   "source": [
    "#### 行列積"
   ]
  },
  {
   "cell_type": "code",
   "execution_count": 33,
   "metadata": {},
   "outputs": [
    {
     "data": {
      "text/plain": [
       "array([[19, 22],\n",
       "       [43, 50]])"
      ]
     },
     "execution_count": 33,
     "metadata": {},
     "output_type": "execute_result"
    }
   ],
   "source": [
    "c = np.dot(a,b)  # A B\n",
    "c"
   ]
  },
  {
   "cell_type": "code",
   "execution_count": 34,
   "metadata": {},
   "outputs": [
    {
     "data": {
      "text/plain": [
       "array([[23, 34],\n",
       "       [31, 46]])"
      ]
     },
     "execution_count": 34,
     "metadata": {},
     "output_type": "execute_result"
    }
   ],
   "source": [
    "d = np.dot(b,a)  # B A\n",
    "d"
   ]
  },
  {
   "cell_type": "code",
   "execution_count": 35,
   "metadata": {},
   "outputs": [
    {
     "data": {
      "text/plain": [
       "array([[19, 22],\n",
       "       [43, 50]])"
      ]
     },
     "execution_count": 35,
     "metadata": {},
     "output_type": "execute_result"
    }
   ],
   "source": [
    "c = a.dot(b)     # A B\n",
    "c"
   ]
  },
  {
   "cell_type": "code",
   "execution_count": 36,
   "metadata": {},
   "outputs": [
    {
     "data": {
      "text/plain": [
       "array([[23, 34],\n",
       "       [31, 46]])"
      ]
     },
     "execution_count": 36,
     "metadata": {},
     "output_type": "execute_result"
    }
   ],
   "source": [
    "d = b.dot(a)     # B A\n",
    "d"
   ]
  },
  {
   "cell_type": "code",
   "execution_count": 37,
   "metadata": {},
   "outputs": [
    {
     "data": {
      "text/plain": [
       "array([[19, 22],\n",
       "       [43, 50]])"
      ]
     },
     "execution_count": 37,
     "metadata": {},
     "output_type": "execute_result"
    }
   ],
   "source": [
    "### 本来はdotはベクトルの内積（ドット積）、matmulは行列の積であり\n",
    "### 行列の積の場合はmatmul（もしくは@演算子）を使うことが推奨される\n",
    "### ただし、dotに2次元配列(行列)を渡すと、行列積のように振る舞う\n",
    "a = np.array([[1,2],[3,4]])\n",
    "b = np.array([[5,6],[7,8]])\n",
    "c = np.matmul(a,b)  # A B\n",
    "c"
   ]
  },
  {
   "cell_type": "code",
   "execution_count": 38,
   "metadata": {},
   "outputs": [
    {
     "data": {
      "text/plain": [
       "array([[23, 34],\n",
       "       [31, 46]])"
      ]
     },
     "execution_count": 38,
     "metadata": {},
     "output_type": "execute_result"
    }
   ],
   "source": [
    "d = np.matmul(b,a)  # B A\n",
    "d"
   ]
  },
  {
   "cell_type": "code",
   "execution_count": 39,
   "metadata": {},
   "outputs": [
    {
     "data": {
      "text/plain": [
       "array([[19, 22],\n",
       "       [43, 50]])"
      ]
     },
     "execution_count": 39,
     "metadata": {},
     "output_type": "execute_result"
    }
   ],
   "source": [
    "a @ b"
   ]
  },
  {
   "cell_type": "code",
   "execution_count": 40,
   "metadata": {},
   "outputs": [
    {
     "data": {
      "text/plain": [
       "array([[23, 34],\n",
       "       [31, 46]])"
      ]
     },
     "execution_count": 40,
     "metadata": {},
     "output_type": "execute_result"
    }
   ],
   "source": [
    "b @ a"
   ]
  },
  {
   "cell_type": "code",
   "execution_count": 41,
   "metadata": {},
   "outputs": [
    {
     "data": {
      "text/plain": [
       "array([[19, 22]])"
      ]
     },
     "execution_count": 41,
     "metadata": {},
     "output_type": "execute_result"
    }
   ],
   "source": [
    "a = np.array([[1,2]])\n",
    "b = np.array([[5,6],[7,8]])\n",
    "c = np.matmul(a,b)  # A B\n",
    "c"
   ]
  },
  {
   "cell_type": "code",
   "execution_count": 42,
   "metadata": {
    "scrolled": true
   },
   "outputs": [
    {
     "data": {
      "text/plain": [
       "array([[17],\n",
       "       [23]])"
      ]
     },
     "execution_count": 42,
     "metadata": {},
     "output_type": "execute_result"
    }
   ],
   "source": [
    "a = np.array([[1],[2]])\n",
    "b = np.array([[5,6],[7,8]])\n",
    "d = np.matmul(b,a)  # B A\n",
    "d"
   ]
  },
  {
   "cell_type": "markdown",
   "metadata": {},
   "source": [
    "#### 転置行列"
   ]
  },
  {
   "cell_type": "code",
   "execution_count": 43,
   "metadata": {},
   "outputs": [
    {
     "data": {
      "text/plain": [
       "array([[1, 2],\n",
       "       [3, 4]])"
      ]
     },
     "execution_count": 43,
     "metadata": {},
     "output_type": "execute_result"
    }
   ],
   "source": [
    "a = np.array([[1,2],[3,4]])\n",
    "a"
   ]
  },
  {
   "cell_type": "code",
   "execution_count": 44,
   "metadata": {},
   "outputs": [
    {
     "data": {
      "text/plain": [
       "array([[1, 3],\n",
       "       [2, 4]])"
      ]
     },
     "execution_count": 44,
     "metadata": {},
     "output_type": "execute_result"
    }
   ],
   "source": [
    "a.T   # 行列aの転置"
   ]
  },
  {
   "cell_type": "markdown",
   "metadata": {},
   "source": [
    "#### 逆行列"
   ]
  },
  {
   "cell_type": "code",
   "execution_count": 45,
   "metadata": {},
   "outputs": [
    {
     "data": {
      "text/plain": [
       "array([[-7.,  3.],\n",
       "       [ 5., -2.]])"
      ]
     },
     "execution_count": 45,
     "metadata": {},
     "output_type": "execute_result"
    }
   ],
   "source": [
    "a = np.array([[2,3],[5,7]])\n",
    "a_inv = np.linalg.inv(a) # aの逆行列\n",
    "a_inv"
   ]
  },
  {
   "cell_type": "code",
   "execution_count": 46,
   "metadata": {},
   "outputs": [
    {
     "data": {
      "text/plain": [
       "array([[1., 0.],\n",
       "       [0., 1.]])"
      ]
     },
     "execution_count": 46,
     "metadata": {},
     "output_type": "execute_result"
    }
   ],
   "source": [
    "d = a.dot(a_inv) # a と aの逆行列の積は単位行列(数値計算の誤差が生じることあり)\n",
    "d"
   ]
  },
  {
   "cell_type": "markdown",
   "metadata": {},
   "source": [
    "#### 行列の階数(rank)"
   ]
  },
  {
   "cell_type": "code",
   "execution_count": 47,
   "metadata": {},
   "outputs": [
    {
     "name": "stdout",
     "output_type": "stream",
     "text": [
      "a:\n",
      " [[2 3]\n",
      " [5 7]]\n",
      "rank(a) =  2\n",
      "b:\n",
      " [[ 2  3]\n",
      " [-4 -6]]\n",
      "rank(b) =  1\n"
     ]
    }
   ],
   "source": [
    "a = np.array([[2,3],[5,7]])\n",
    "rank_a = np.linalg.matrix_rank(a)\n",
    "print('a:\\n',a)\n",
    "print('rank(a) = ',rank_a)\n",
    "\n",
    "b = np.array([[2,3],[-4,-6]])\n",
    "rank_b = np.linalg.matrix_rank(b)\n",
    "print('b:\\n',b)\n",
    "print('rank(b) = ',rank_b)\n"
   ]
  },
  {
   "cell_type": "markdown",
   "metadata": {},
   "source": [
    "#### 行列式"
   ]
  },
  {
   "cell_type": "code",
   "execution_count": 48,
   "metadata": {},
   "outputs": [
    {
     "data": {
      "text/plain": [
       "-0.9999999999999991"
      ]
     },
     "execution_count": 48,
     "metadata": {},
     "output_type": "execute_result"
    }
   ],
   "source": [
    "a = np.array([[2,3],[5,7]])\n",
    "d = np.linalg.det(a)  # aの行列式(数値計算の誤差が生じることあり)\n",
    "d"
   ]
  },
  {
   "cell_type": "markdown",
   "metadata": {},
   "source": [
    "#### 固有値、固有ベクトル"
   ]
  },
  {
   "cell_type": "code",
   "execution_count": 49,
   "metadata": {},
   "outputs": [
    {
     "name": "stdout",
     "output_type": "stream",
     "text": [
      "w:\n",
      " [-0.10977223  9.10977223]\n",
      "v:\n",
      " [[-0.81797819 -0.38876264]\n",
      " [ 0.57524923 -0.92133794]]\n"
     ]
    }
   ],
   "source": [
    "a = np.array([[2,3],[5,7]])\n",
    "w,v = np.linalg.eig(a)  # aの固有値をw、固有ベクトルをvに格納\n",
    "print('w:\\n',w)\n",
    "print('v:\\n',v)"
   ]
  },
  {
   "cell_type": "code",
   "execution_count": 50,
   "metadata": {},
   "outputs": [
    {
     "data": {
      "text/plain": [
       "array([[-1.09772229e-01,  0.00000000e+00],\n",
       "       [ 2.98372438e-16,  9.10977223e+00]])"
      ]
     },
     "execution_count": 50,
     "metadata": {},
     "output_type": "execute_result"
    }
   ],
   "source": [
    "v_inv = np.linalg.inv(v)  # vの逆行列 v^{-1}\n",
    "d = v_inv.dot(a.dot(v))   # v^{-1}  a  v -> d : aの対角化\n",
    "d"
   ]
  },
  {
   "cell_type": "markdown",
   "metadata": {},
   "source": [
    "### SVD (singular Value Decomposition)"
   ]
  },
  {
   "cell_type": "code",
   "execution_count": 51,
   "metadata": {},
   "outputs": [
    {
     "name": "stdout",
     "output_type": "stream",
     "text": [
      "u:\n",
      " [[-0.20661428 -0.59109802 -0.77968819]\n",
      " [-0.51767501 -0.6101642   0.59976014]\n",
      " [-0.83025485  0.5275441  -0.17992804]]\n",
      "s:\n",
      " [1.67039509e+01 2.44499974e+00 1.00715346e-15]\n",
      "v:\n",
      " [[-0.58367078 -0.57732703 -0.57098329]\n",
      " [ 0.70189868 -0.00517964 -0.71225797]\n",
      " [-0.40824829  0.81649658 -0.40824829]]\n"
     ]
    }
   ],
   "source": [
    "a = np.array([[1,2,3],[4,5,6],[9,8,7]])\n",
    "u, s, v = np.linalg.svd(a)  # aのSVD : a = u  np.diag(s)  v\n",
    "print('u:\\n',u)\n",
    "print('s:\\n',s)\n",
    "print('v:\\n',v)"
   ]
  },
  {
   "cell_type": "code",
   "execution_count": 52,
   "metadata": {},
   "outputs": [
    {
     "data": {
      "text/plain": [
       "array([[1.67039509e+01, 0.00000000e+00, 0.00000000e+00],\n",
       "       [0.00000000e+00, 2.44499974e+00, 0.00000000e+00],\n",
       "       [0.00000000e+00, 0.00000000e+00, 1.00715346e-15]])"
      ]
     },
     "execution_count": 52,
     "metadata": {},
     "output_type": "execute_result"
    }
   ],
   "source": [
    "smat = np.diag(s)  # s を対角成分に持つ行列\n",
    "smat"
   ]
  },
  {
   "cell_type": "code",
   "execution_count": 53,
   "metadata": {},
   "outputs": [
    {
     "name": "stdout",
     "output_type": "stream",
     "text": [
      "a:\n",
      " [[1 2 3]\n",
      " [4 5 6]\n",
      " [9 8 7]]\n",
      "aa:\n",
      " [[1. 2. 3.]\n",
      " [4. 5. 6.]\n",
      " [9. 8. 7.]]\n"
     ]
    }
   ],
   "source": [
    "aa = u.dot(smat.dot(v))   # aa <- u  smat  v\n",
    "print('a:\\n',a)\n",
    "print('aa:\\n',aa)"
   ]
  },
  {
   "cell_type": "markdown",
   "metadata": {},
   "source": [
    "#### 連立方程式の解\n",
    "$$ A \\boldsymbol{x} = \\boldsymbol{b} $$ "
   ]
  },
  {
   "cell_type": "code",
   "execution_count": 54,
   "metadata": {},
   "outputs": [
    {
     "data": {
      "text/plain": [
       "array([ 2., -1.])"
      ]
     },
     "execution_count": 54,
     "metadata": {},
     "output_type": "execute_result"
    }
   ],
   "source": [
    "A = np.array([[1,2],[3,4]])  # A\n",
    "b = np.array([0,2])          # b\n",
    "x = np.linalg.solve(A,b)     # 連立方程式の解 x\n",
    "x"
   ]
  },
  {
   "cell_type": "markdown",
   "metadata": {},
   "source": [
    "### [練習] PCA(Principal Component Analysis)\n",
    "適当な行列を設定しそのPCAを計算してみる。"
   ]
  },
  {
   "cell_type": "code",
   "execution_count": 55,
   "metadata": {},
   "outputs": [
    {
     "name": "stdout",
     "output_type": "stream",
     "text": [
      "x:\n",
      " [[ 0.11503801  0.01808642 -0.02696808 ...  1.12791249  0.35905314\n",
      "  -0.97267395]\n",
      " [ 0.78706159 -0.02341141  0.24980029 ...  2.40773277  0.38269856\n",
      "  -1.68714774]]\n",
      "s:\n",
      " [[1.00149091 2.00013791]\n",
      " [2.00013791 4.97581556]]\n",
      "w:\n",
      " [0.16919127 5.8081152 ]\n",
      "v:\n",
      " [[-0.92325564 -0.38418618]\n",
      " [ 0.38418618 -0.92325564]]\n"
     ]
    }
   ],
   "source": [
    "N = 1000  # データ点数\n",
    "x1 = np.random.normal(0.0, 1.0, N)  # 平均 0, 標準偏差 1 の正規分布乱数 N 個\n",
    "x2 = 2 * x1 + np.random.normal(0.0, 1.0, N)  # x2 = x1 + N(0,1) ... x1とx2は比例\n",
    "x = np.vstack([x1,x2]) # x1 と x2 を縦に連結\n",
    "print('x:\\n',x)\n",
    "# x\n",
    "s = x.dot(x.T) / N # 共分散行列 s = x x^T\n",
    "print('s:\\n',s)\n",
    "# s\n",
    "w,v = np.linalg.eig(s)  # 共分散行列 s の固有値 w , 固有ベクトル v の算出\n",
    "print('w:\\n',w)\n",
    "print('v:\\n',v)\n",
    "p = v.T.dot(x)    # 固有ベクトル行列でデータxを線形変換 : p <- v^T  x\n",
    "#print('p:\\n',p)"
   ]
  },
  {
   "cell_type": "code",
   "execution_count": 56,
   "metadata": {},
   "outputs": [
    {
     "data": {
      "image/png": "[encoded data removed]",
      "text/plain": [
       "<Figure size 432x288 with 1 Axes>"
      ]
     },
     "metadata": {
      "needs_background": "light"
     },
     "output_type": "display_data"
    }
   ],
   "source": [
    "# 元のデータ x の散布図\n",
    "import matplotlib.pyplot as plt\n",
    "plt.scatter(x1,x2)\n",
    "plt.axis([-10,10,-10,10])\n",
    "plt.grid(True)\n",
    "plt.show()"
   ]
  },
  {
   "cell_type": "code",
   "execution_count": 57,
   "metadata": {},
   "outputs": [
    {
     "data": {
      "image/png": "[encoded data removed]",
      "text/plain": [
       "<Figure size 432x288 with 1 Axes>"
      ]
     },
     "metadata": {
      "needs_background": "light"
     },
     "output_type": "display_data"
    }
   ],
   "source": [
    "# 線形変換したデータ p の散布図\n",
    "plt.scatter(p[0,:],p[1,:])\n",
    "plt.axis([-10,10,-10,10])\n",
    "plt.grid(True)\n",
    "plt.show()"
   ]
  },
  {
   "cell_type": "code",
   "execution_count": 58,
   "metadata": {},
   "outputs": [
    {
     "data": {
      "text/plain": [
       "array([0.16868241, 5.80803964])"
      ]
     },
     "execution_count": 58,
     "metadata": {},
     "output_type": "execute_result"
    }
   ],
   "source": [
    "p.var(axis=1)   # 線形変換後のデータの分散は固有値に相当"
   ]
  },
  {
   "cell_type": "markdown",
   "metadata": {},
   "source": [
    "#### 固有ベクトル行列で回転\n",
    "データ行列を固有ベクトル行列で線形変換（回転操作に相当）すると、固有値の大きな第２軸の分散が大きく、固有値の小さな第１軸の分散が小さくなるように回転される。\n",
    "この操作は白色化に相当する。\n",
    "PCAでは固有値の大きな軸から順に採用することで、データの変動分を極力保持するような次元圧縮を実現する。"
   ]
  },
  {
   "cell_type": "markdown",
   "metadata": {},
   "source": [
    "## 手書き数字データに対してPCAを適用してみる"
   ]
  },
  {
   "cell_type": "markdown",
   "metadata": {},
   "source": [
    "### [演習] MNIST手書き数字データベースのPCA分析\n",
    "MNIST手書き数字データベースに対してPCAを適用し、その累積寄与率をグラフ化せよ。\n",
    "なおPCA実装にはNumpyを使用すること(Scikit-learnなどを使うと簡単に実現できるため、Numpyが提供する行列演算のみで実現する)。"
   ]
  },
  {
   "cell_type": "code",
   "execution_count": 59,
   "metadata": {},
   "outputs": [],
   "source": [
    "# 以下にコードを作成し、動作を確認せよ"
   ]
  },
  {
   "cell_type": "markdown",
   "metadata": {},
   "source": [
    "### 以下にMarkdown形式で分析結果を要約を記載せよ"
   ]
  },
  {
   "cell_type": "markdown",
   "metadata": {},
   "source": [
    "#### この部分を編集し、分析結果を要約する"
   ]
  },
  {
   "cell_type": "markdown",
   "metadata": {},
   "source": [
    "### scikit-learnの使用例\n",
    "scikit-learnを使ってPCAを実現する場合は以下のように書くことが出来る。\n",
    "\n",
    "(scikit-learnの使い方については興味があれば各自調べてみると良い)\n",
    "\n",
    "https://scikit-learn.org/stable/"
   ]
  },
  {
   "cell_type": "code",
   "execution_count": 60,
   "metadata": {},
   "outputs": [
    {
     "data": {
      "text/plain": [
       "(60000, 784)"
      ]
     },
     "execution_count": 60,
     "metadata": {},
     "output_type": "execute_result"
    }
   ],
   "source": [
    "### MNISTデータベースの読み込み\n",
    "import os\n",
    "import struct\n",
    "import numpy as np\n",
    "\n",
    "### MNISTデータベース読み込み関数\n",
    "### 参考: [第3版]Python機械学習プログラミング, インプレス\n",
    "def load_mnist(path, kind='train'):\n",
    "    \"\"\"MNISTデータをpathからロード\"\"\"\n",
    "    # 引数に指定したパスを結合\n",
    "    labels_path = os.path.join(path, '%s-labels.idx1-ubyte' % kind)\n",
    "    images_path = os.path.join(path, '%s-images.idx3-ubyte' % kind)\n",
    "    \n",
    "    # ファイルを読み込む\n",
    "    with open(labels_path, 'rb') as lbpath:\n",
    "        # バイナリを文字列に変換: unpack関数の引数にフォーマット、8bytes分の\n",
    "        # バイナリデータを指定してマジックナンバー、アイテムの個数を読み込む\n",
    "        magic, n = struct.unpack('>II', lbpath.read(8))\n",
    "        # ファイルからラベルを読み込み配列を構築: fromfile関数の引数に\n",
    "        # ファイル、配列のデータ形式を指定\n",
    "        labels = np.fromfile(lbpath, dtype=np.uint8)\n",
    "    \n",
    "    with open(images_path, 'rb') as imgpath:\n",
    "        magic, num, rows, cols = struct.unpack(\">IIII\", imgpath.read(16))\n",
    "        # 画像ピクセル情報の配列のサイズを変更（行数：ラベルのサイズ、列数：特徴量の個数）\n",
    "        images = np.fromfile(imgpath, dtype=np.uint8).reshape(len(labels),784)\n",
    "        images = ((images / 255.) - .5) * 2\n",
    "    \n",
    "    return images, labels\n",
    "\n",
    "### 事前にコードと同じフォルダに(圧縮されていない)データを格納しておく\n",
    "### 学習ラベルデータ: train-labels-idx1-ubyte\n",
    "### 学習画像データ: train-images-idx3-ubyte\n",
    "### 元のデータ: THE MNIST DATABASE of handwritten digits\n",
    "### http://yann.lecun.com/exdb/mnist/\n",
    "###\n",
    "### Xに画像データ, yにラベルデータを読み込む\n",
    "### 画像データの画素値は [-1,1] に正規化されている\n",
    "X, y = load_mnist('', kind='train')  # 学習データ60000個の読み込み\n",
    "\n",
    "### 比較的新しい sklearn の場合\n",
    "# from sklearn.datasets import fetch_openml\n",
    "# # MNISTデータセットを https://www.openml.org/d/554 から読み込み\n",
    "# # １つの画像が 28 x 28 のグレイスケール画像を784次元データとして扱う\n",
    "# X,y = fetch_openml('mnist_784', version=1, return_X_y=True)\n",
    "# y = y.astype(int)  # 正解ラベルを整数型として解釈\n",
    "# X = ((X / 255.) - .5) * 2   # 画素値[0,255]を正規化し[-1,1]の実数値に変更\n",
    "\n",
    "### 古い sklearn の場合（新しいsklearnではfetch_mldataは廃止）\n",
    "# from sklearn.datasets import fetch_mldata\n",
    "# mnist = fetch_mldata(\"MNIST original\", data_home=\".\")\n",
    "# X = mnist['data'].astype(np.float32)\n",
    "# y = mnist['target'].astype(np.int32)\n",
    "# X = ((X / 255.) - .5) * 2   # 画素値[0,255]を正規化し[-1,1]の実数値に変更\n",
    "\n",
    "###\n",
    "### X には 60000 枚の画像データが読み込まれている\n",
    "### 画像サイズは 28 x 28 であるが、1次元配列にflatteningされた 784 次元ベクトルとして\n",
    "### 1枚の画像データを扱っている（表示の際には 28 x 28 に reshape する必要あり）\n",
    "###\n",
    "X.shape"
   ]
  },
  {
   "cell_type": "code",
   "execution_count": 61,
   "metadata": {},
   "outputs": [
    {
     "data": {
      "image/png": "[encoded data removed]",
      "text/plain": [
       "<Figure size 432x288 with 10 Axes>"
      ]
     },
     "metadata": {},
     "output_type": "display_data"
    }
   ],
   "source": [
    "### 学習データの 0 ～ 9 の数字を各1つ表示\n",
    "import matplotlib.pyplot as plt\n",
    "from matplotlib.cm import get_cmap\n",
    "\n",
    "fig,ax = plt.subplots(nrows=2, ncols=5, sharex=True, sharey=True)\n",
    "ax = ax.flatten() # 配列を１次元に変形\n",
    "for i in range(10):\n",
    "    img = X[y==i][0].reshape(28,28) # 配列を 28 x 28 に変形\n",
    "    ax[i].imshow(img, cmap='Greys')\n",
    "\n",
    "ax[0].set_xticks([])\n",
    "ax[0].set_yticks([])\n",
    "plt.tight_layout()\n",
    "plt.show()"
   ]
  },
  {
   "cell_type": "code",
   "execution_count": 62,
   "metadata": {},
   "outputs": [
    {
     "data": {
      "image/png": "[encoded data removed]",
      "text/plain": [
       "<Figure size 432x288 with 1 Axes>"
      ]
     },
     "metadata": {
      "needs_background": "light"
     },
     "output_type": "display_data"
    },
    {
     "data": {
      "image/png": "[encoded data removed]",
      "text/plain": [
       "<Figure size 432x288 with 1 Axes>"
      ]
     },
     "metadata": {
      "needs_background": "light"
     },
     "output_type": "display_data"
    }
   ],
   "source": [
    "from sklearn.decomposition import PCA\n",
    "\n",
    "# pca = PCA(n_components = 100, whiten = False) # PCA分析器の準備(主成分軸数100, 白色化なし)\n",
    "# 事前にデータが格納されているものとする\n",
    "# pca.fit(data) # dataに対してPCAを適用\n",
    "# x = pca.transform(data) # 主成分空間にデータを写像\n",
    "full_PCA = PCA(n_components=28*28)     # PCA分析器の準備(主成分軸数784)\n",
    "X_full_PCA = full_PCA.fit_transform(X) # Xに対してPCAを適用し(fit)、主成分空間に写像(transform)\n",
    "plt.plot(np.cumsum(full_PCA.explained_variance_ratio_))\n",
    "plt.title(\"cumulative contribution ratio\")\n",
    "plt.xlabel('#dimension')\n",
    "plt.ylabel('ratio')\n",
    "plt.grid()\n",
    "plt.show()\n",
    "\n",
    "plt.plot(full_PCA.explained_variance_ratio_)\n",
    "plt.title(\"contribution ratio\")\n",
    "plt.xlabel('#dimension')\n",
    "plt.ylabel('ratio')\n",
    "plt.grid()\n",
    "plt.show()"
   ]
  },
  {
   "cell_type": "code",
   "execution_count": 63,
   "metadata": {},
   "outputs": [
    {
     "name": "stdout",
     "output_type": "stream",
     "text": [
      "dim(99%)= 330\n",
      "dim(95%)= 153\n",
      "dim(90%)= 86\n"
     ]
    }
   ],
   "source": [
    "print(\"dim(99%)=\",np.sum(np.cumsum(full_PCA.explained_variance_ratio_)<0.99))\n",
    "print(\"dim(95%)=\",np.sum(np.cumsum(full_PCA.explained_variance_ratio_)<0.95))\n",
    "print(\"dim(90%)=\",np.sum(np.cumsum(full_PCA.explained_variance_ratio_)<0.90))"
   ]
  },
  {
   "cell_type": "code",
   "execution_count": 68,
   "metadata": {},
   "outputs": [
    {
     "data": {
      "image/png": "[encoded data removed]",
      "text/plain": [
       "<Figure size 2160x288 with 10 Axes>"
      ]
     },
     "metadata": {
      "needs_background": "light"
     },
     "output_type": "display_data"
    }
   ],
   "source": [
    "PCA_90per = PCA(n_components=87)\n",
    "X_PCA_90per = PCA_90per.fit_transform(X)\n",
    "X_recon_90per = PCA_90per.inverse_transform(X_PCA_90per)\n",
    "#X_recon_90per_img = X_recon_90per.reshape(X.shape[0], X.shape[1], X.shape[2])\n",
    "\n",
    "fig, axes = plt.subplots(ncols=5, nrows=2, figsize=(30,4))\n",
    "\n",
    "for i in range(5):\n",
    "    img1 = X[y==i][0].reshape(28,28) # 配列を 28 x 28 に変形\n",
    "    axes[0, i].imshow(img1, cmap=plt.cm.gray_r, interpolation='nearest')\n",
    "    axes[0, i].set_title('original %d' % i)\n",
    "    axes[0, i].get_xaxis().set_visible(False)\n",
    "    axes[0, i].get_yaxis().set_visible(False)\n",
    "\n",
    "    img2 = X_recon_90per[y==i][0].reshape(28,28) # 配列を 28 x 28 に変形\n",
    "    axes[1, i].imshow(img2, cmap=plt.cm.gray_r, interpolation='nearest')\n",
    "    axes[1, i].set_title('dimension reduction %d' % i)\n",
    "    axes[1, i].get_xaxis().set_visible(False)\n",
    "    axes[1, i].get_yaxis().set_visible(False)"
   ]
  },
  {
   "cell_type": "code",
   "execution_count": null,
   "metadata": {},
   "outputs": [],
   "source": []
  }
 ],
 "metadata": {
  "kernelspec": {
   "display_name": "Python 3",
   "language": "python",
   "name": "python3"
  },
  "language_info": {
   "codemirror_mode": {
    "name": "ipython",
    "version": 3
   },
   "file_extension": ".py",
   "mimetype": "text/x-python",
   "name": "python",
   "nbconvert_exporter": "python",
   "pygments_lexer": "ipython3",
   "version": "3.7.6"
  }
 },
 "nbformat": 4,
 "nbformat_minor": 2
}
